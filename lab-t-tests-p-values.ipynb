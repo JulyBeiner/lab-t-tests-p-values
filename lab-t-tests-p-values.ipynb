{
 "cells": [
  {
   "cell_type": "markdown",
   "id": "c2515696-5fb5-4d5e-94c8-087cad831262",
   "metadata": {},
   "source": [
    "### Lab | Inferential statistics - T-test & P-value\n",
    "\n",
    "### Instructions\n",
    "\n",
    "##### We will have another simple example on two sample t test (pooled- when the variances are equal). But this time this is a one sided t-test\n",
    "##### 1. In a packing plant, a machine packs cartons with jars. It is supposed that a new machine will pack faster on the average than the machine currently used. To test that hypothesis, the times it takes each machine to pack ten cartons are recorded. The results, in seconds, are shown in the tables in the file files_for_lab/machine.txt. Assume that there is sufficient evidence to conduct the t test, does the data provide sufficient evidence to show if one machine is better than the other\n"
   ]
  },
  {
   "cell_type": "markdown",
   "id": "37e85c14-36a8-4ebd-9c86-c7adbcb5d703",
   "metadata": {},
   "source": [
    "##### 2. An additional problem (not mandatory): In this case we can't assume that the population variances are equal. Hence in this case we cannot pool the variances. Independent random samples of 17 sophomores and 13 juniors attending a large university yield the following data on grade point averages. Data is provided in the file files_for_lab/student_gpa.txt. At the 5% significance level, do the data provide sufficient evidence to conclude that the mean GPAs of sophomores and juniors at the university differ?\n",
    "\n",
    "##### Test statistics can be calculated as: link to the image - Test statistics calculation for Unpooled Variance Case\n",
    "\n",
    "##### Degrees of freedom is (n1-1)+(n2-1)."
   ]
  },
  {
   "cell_type": "code",
   "execution_count": 18,
   "id": "5348ebf9-1c35-4f83-b9e7-0bb447aff112",
   "metadata": {},
   "outputs": [
    {
     "name": "stdout",
     "output_type": "stream",
     "text": [
      "Requirement already satisfied: pillow in c:\\users\\julyj\\anaconda3\\lib\\site-packages (10.3.0)\n",
      "Note: you may need to restart the kernel to use updated packages.\n"
     ]
    }
   ],
   "source": [
    "pip install pillow"
   ]
  },
  {
   "cell_type": "code",
   "execution_count": 20,
   "id": "3748bb36-fb9b-4601-bcb8-cb0810eb2931",
   "metadata": {},
   "outputs": [],
   "source": [
    "from PIL import Image"
   ]
  },
  {
   "cell_type": "code",
   "execution_count": 24,
   "id": "cb6f9f04-0ec7-4c46-ad21-20ec48e77439",
   "metadata": {},
   "outputs": [],
   "source": [
    "img = Image.open(\"lab_image.png\")"
   ]
  },
  {
   "cell_type": "code",
   "execution_count": 26,
   "id": "570df948-1f22-4334-9e46-fe68f9bfa3a5",
   "metadata": {},
   "outputs": [],
   "source": [
    "import pandas as pd\n",
    "import matplotlib.pyplot as plt\n",
    "import seaborn as sns\n",
    "import numpy as np\n",
    "\n",
    "%matplotlib inline\n",
    "pd.set_option('display.max_columns', None)"
   ]
  },
  {
   "cell_type": "code",
   "execution_count": 28,
   "id": "d64ea229-035c-4338-bc95-39e8db8ce8b9",
   "metadata": {},
   "outputs": [
    {
     "name": "stdout",
     "output_type": "stream",
     "text": [
      "Requirement already satisfied: scipy in c:\\users\\julyj\\anaconda3\\lib\\site-packages (1.13.1)\n",
      "Requirement already satisfied: numpy<2.3,>=1.22.4 in c:\\users\\julyj\\anaconda3\\lib\\site-packages (from scipy) (1.26.4)\n",
      "Note: you may need to restart the kernel to use updated packages.\n"
     ]
    }
   ],
   "source": [
    "pip install scipy"
   ]
  },
  {
   "cell_type": "code",
   "execution_count": 30,
   "id": "ad13ceff-fdc0-41f5-a748-7221ac3c2d48",
   "metadata": {},
   "outputs": [],
   "source": [
    "import numpy as np\n",
    "import scipy.stats as stats\n"
   ]
  },
  {
   "cell_type": "code",
   "execution_count": 32,
   "id": "0b88ef99-b08c-4975-9078-20be7d966fc5",
   "metadata": {},
   "outputs": [],
   "source": [
    "new_machine = np.array([42.1, 41, 41.3, 41.8, 42.4, 42.8, 43.2, 42.3, 41.8, 42.7]) \n",
    "old_machine = np.array([42.7, 43.6, 43.8, 43.3, 42.5, 43.5, 43.1, 41.7, 44, 44.1]) "
   ]
  },
  {
   "cell_type": "code",
   "execution_count": 34,
   "id": "1a389532-79b4-41f6-8918-4ced21e36f50",
   "metadata": {},
   "outputs": [],
   "source": [
    "t_stat, p_value = stats.ttest_ind(new_machine, old_machine, equal_var=False)\n"
   ]
  },
  {
   "cell_type": "code",
   "execution_count": 36,
   "id": "dd0e78c2-58ff-47b8-b464-10a42a38f7ef",
   "metadata": {},
   "outputs": [
    {
     "name": "stdout",
     "output_type": "stream",
     "text": [
      "t-statistic: -3.3972307061176026\n",
      "p-value: 0.00324224946631798\n"
     ]
    }
   ],
   "source": [
    "print(f\"t-statistic: {t_stat}\")\n",
    "print(f\"p-value: {p_value}\")\n"
   ]
  },
  {
   "cell_type": "code",
   "execution_count": 38,
   "id": "8a3bf52f-3afa-4364-92cb-fe668c44b996",
   "metadata": {},
   "outputs": [],
   "source": [
    "n1 = len(new_machine)\n",
    "n2 = len(old_machine)\n",
    "s1 = np.var(new_machine, ddof=1)  \n",
    "s2 = np.var(old_machine, ddof=1)  "
   ]
  },
  {
   "cell_type": "code",
   "execution_count": 40,
   "id": "c4b190c4-786c-4344-8bc0-5ce0b91d2a82",
   "metadata": {},
   "outputs": [],
   "source": [
    "df = ((s1/n1 + s2/n2) ** 2) / (( (s1/n1) ** 2) / (n1 - 1) + ((s2/n2) ** 2) / (n2 - 1))"
   ]
  },
  {
   "cell_type": "code",
   "execution_count": 42,
   "id": "f5af678f-1fcd-4fc2-933d-b97be5280c89",
   "metadata": {},
   "outputs": [
    {
     "name": "stdout",
     "output_type": "stream",
     "text": [
      "Degrees of freedom: 17.847298506720346\n"
     ]
    }
   ],
   "source": [
    "print(f\"Degrees of freedom: {df}\")"
   ]
  },
  {
   "cell_type": "code",
   "execution_count": null,
   "id": "ae73af21-e415-4de3-bd62-158414ad72df",
   "metadata": {},
   "outputs": [],
   "source": []
  }
 ],
 "metadata": {
  "kernelspec": {
   "display_name": "Python 3 (ipykernel)",
   "language": "python",
   "name": "python3"
  },
  "language_info": {
   "codemirror_mode": {
    "name": "ipython",
    "version": 3
   },
   "file_extension": ".py",
   "mimetype": "text/x-python",
   "name": "python",
   "nbconvert_exporter": "python",
   "pygments_lexer": "ipython3",
   "version": "3.12.4"
  }
 },
 "nbformat": 4,
 "nbformat_minor": 5
}
